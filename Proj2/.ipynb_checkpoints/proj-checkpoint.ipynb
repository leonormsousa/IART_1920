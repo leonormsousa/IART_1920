{
 "cells": [
  {
   "cell_type": "code",
   "execution_count": 17,
   "metadata": {},
   "outputs": [
    {
     "ename": "ModuleNotFoundError",
     "evalue": "No module named 'sklearn.cross_validation'",
     "output_type": "error",
     "traceback": [
      "\u001b[0;31m---------------------------------------------------------------------------\u001b[0m",
      "\u001b[0;31mModuleNotFoundError\u001b[0m                       Traceback (most recent call last)",
      "\u001b[0;32m<ipython-input-17-69548b6756f3>\u001b[0m in \u001b[0;36m<module>\u001b[0;34m\u001b[0m\n\u001b[1;32m      4\u001b[0m \u001b[0;32mfrom\u001b[0m \u001b[0msklearn\u001b[0m\u001b[0;34m.\u001b[0m\u001b[0mlinear_model\u001b[0m \u001b[0;32mimport\u001b[0m \u001b[0mLinearRegression\u001b[0m\u001b[0;34m\u001b[0m\u001b[0;34m\u001b[0m\u001b[0m\n\u001b[1;32m      5\u001b[0m \u001b[0;32mfrom\u001b[0m \u001b[0msklearn\u001b[0m \u001b[0;32mimport\u001b[0m \u001b[0mdatasets\u001b[0m\u001b[0;34m,\u001b[0m \u001b[0mlinear_model\u001b[0m\u001b[0;34m\u001b[0m\u001b[0;34m\u001b[0m\u001b[0m\n\u001b[0;32m----> 6\u001b[0;31m \u001b[0;32mfrom\u001b[0m \u001b[0msklearn\u001b[0m\u001b[0;34m.\u001b[0m\u001b[0mcross_validation\u001b[0m \u001b[0;32mimport\u001b[0m \u001b[0mtrain_test_split\u001b[0m\u001b[0;34m\u001b[0m\u001b[0;34m\u001b[0m\u001b[0m\n\u001b[0m\u001b[1;32m      7\u001b[0m \u001b[0;32mimport\u001b[0m \u001b[0mnumpy\u001b[0m \u001b[0;32mas\u001b[0m \u001b[0mnp\u001b[0m\u001b[0;34m\u001b[0m\u001b[0;34m\u001b[0m\u001b[0m\n",
      "\u001b[0;31mModuleNotFoundError\u001b[0m: No module named 'sklearn.cross_validation'"
     ]
    }
   ],
   "source": [
    "import pandas as pd\n",
    "from datetime import datetime\n",
    "from sklearn.preprocessing import LabelEncoder, OneHotEncoder\n",
    "from sklearn.linear_model import LinearRegression\n",
    "from sklearn import datasets, linear_model\n",
    "from sklearn.model_selection import train_test_split\n",
    "import numpy as np"
   ]
  },
  {
   "cell_type": "code",
   "execution_count": 12,
   "metadata": {},
   "outputs": [],
   "source": [
    "data = pd.read_csv('dataset.csv')\n",
    "data_array = data.values"
   ]
  },
  {
   "cell_type": "code",
   "execution_count": 13,
   "metadata": {},
   "outputs": [
    {
     "data": {
      "text/html": [
       "<div>\n",
       "<style scoped>\n",
       "    .dataframe tbody tr th:only-of-type {\n",
       "        vertical-align: middle;\n",
       "    }\n",
       "\n",
       "    .dataframe tbody tr th {\n",
       "        vertical-align: top;\n",
       "    }\n",
       "\n",
       "    .dataframe thead th {\n",
       "        text-align: right;\n",
       "    }\n",
       "</style>\n",
       "<table border=\"1\" class=\"dataframe\">\n",
       "  <thead>\n",
       "    <tr style=\"text-align: right;\">\n",
       "      <th></th>\n",
       "      <th>iso</th>\n",
       "      <th>country</th>\n",
       "      <th>date</th>\n",
       "      <th>grocery_pharmacy</th>\n",
       "      <th>parks</th>\n",
       "      <th>residential</th>\n",
       "      <th>retail_recreation</th>\n",
       "      <th>transit_stations</th>\n",
       "      <th>workplaces</th>\n",
       "      <th>total_cases</th>\n",
       "      <th>fatalities</th>\n",
       "    </tr>\n",
       "  </thead>\n",
       "  <tbody>\n",
       "    <tr>\n",
       "      <th>0</th>\n",
       "      <td>AR</td>\n",
       "      <td>Argentina</td>\n",
       "      <td>2020-02-23</td>\n",
       "      <td>8.185</td>\n",
       "      <td>17.563</td>\n",
       "      <td>0.437</td>\n",
       "      <td>13.644</td>\n",
       "      <td>5.334</td>\n",
       "      <td>-2.486</td>\n",
       "      <td>0</td>\n",
       "      <td>0</td>\n",
       "    </tr>\n",
       "    <tr>\n",
       "      <th>1</th>\n",
       "      <td>AR</td>\n",
       "      <td>Argentina</td>\n",
       "      <td>2020-02-24</td>\n",
       "      <td>-15.875</td>\n",
       "      <td>25.605</td>\n",
       "      <td>6.321</td>\n",
       "      <td>-9.973</td>\n",
       "      <td>-26.785</td>\n",
       "      <td>-53.687</td>\n",
       "      <td>0</td>\n",
       "      <td>0</td>\n",
       "    </tr>\n",
       "    <tr>\n",
       "      <th>2</th>\n",
       "      <td>AR</td>\n",
       "      <td>Argentina</td>\n",
       "      <td>2020-02-25</td>\n",
       "      <td>-17.135</td>\n",
       "      <td>1.325</td>\n",
       "      <td>6.895</td>\n",
       "      <td>-19.717</td>\n",
       "      <td>-28.485</td>\n",
       "      <td>-50.053</td>\n",
       "      <td>0</td>\n",
       "      <td>0</td>\n",
       "    </tr>\n",
       "    <tr>\n",
       "      <th>3</th>\n",
       "      <td>AR</td>\n",
       "      <td>Argentina</td>\n",
       "      <td>2020-02-26</td>\n",
       "      <td>2.304</td>\n",
       "      <td>5.399</td>\n",
       "      <td>-2.273</td>\n",
       "      <td>0.845</td>\n",
       "      <td>9.461</td>\n",
       "      <td>12.584</td>\n",
       "      <td>0</td>\n",
       "      <td>0</td>\n",
       "    </tr>\n",
       "    <tr>\n",
       "      <th>4</th>\n",
       "      <td>AR</td>\n",
       "      <td>Argentina</td>\n",
       "      <td>2020-02-27</td>\n",
       "      <td>-0.404</td>\n",
       "      <td>-5.267</td>\n",
       "      <td>-0.493</td>\n",
       "      <td>-0.584</td>\n",
       "      <td>7.983</td>\n",
       "      <td>12.407</td>\n",
       "      <td>0</td>\n",
       "      <td>0</td>\n",
       "    </tr>\n",
       "    <tr>\n",
       "      <th>...</th>\n",
       "      <td>...</td>\n",
       "      <td>...</td>\n",
       "      <td>...</td>\n",
       "      <td>...</td>\n",
       "      <td>...</td>\n",
       "      <td>...</td>\n",
       "      <td>...</td>\n",
       "      <td>...</td>\n",
       "      <td>...</td>\n",
       "      <td>...</td>\n",
       "      <td>...</td>\n",
       "    </tr>\n",
       "    <tr>\n",
       "      <th>812</th>\n",
       "      <td>ZA</td>\n",
       "      <td>South Africa</td>\n",
       "      <td>2020-04-01</td>\n",
       "      <td>-42.446</td>\n",
       "      <td>-37.600</td>\n",
       "      <td>34.916</td>\n",
       "      <td>-69.728</td>\n",
       "      <td>-77.371</td>\n",
       "      <td>-72.935</td>\n",
       "      <td>1380</td>\n",
       "      <td>5</td>\n",
       "    </tr>\n",
       "    <tr>\n",
       "      <th>813</th>\n",
       "      <td>ZA</td>\n",
       "      <td>South Africa</td>\n",
       "      <td>2020-04-02</td>\n",
       "      <td>-40.523</td>\n",
       "      <td>-38.226</td>\n",
       "      <td>36.550</td>\n",
       "      <td>-69.577</td>\n",
       "      <td>-77.874</td>\n",
       "      <td>-73.331</td>\n",
       "      <td>1462</td>\n",
       "      <td>5</td>\n",
       "    </tr>\n",
       "    <tr>\n",
       "      <th>814</th>\n",
       "      <td>ZA</td>\n",
       "      <td>South Africa</td>\n",
       "      <td>2020-04-03</td>\n",
       "      <td>-42.107</td>\n",
       "      <td>-43.271</td>\n",
       "      <td>38.379</td>\n",
       "      <td>-71.513</td>\n",
       "      <td>-77.944</td>\n",
       "      <td>-72.745</td>\n",
       "      <td>1505</td>\n",
       "      <td>9</td>\n",
       "    </tr>\n",
       "    <tr>\n",
       "      <th>815</th>\n",
       "      <td>ZA</td>\n",
       "      <td>South Africa</td>\n",
       "      <td>2020-04-04</td>\n",
       "      <td>-51.515</td>\n",
       "      <td>-57.252</td>\n",
       "      <td>26.499</td>\n",
       "      <td>-76.589</td>\n",
       "      <td>-77.026</td>\n",
       "      <td>-55.095</td>\n",
       "      <td>1585</td>\n",
       "      <td>9</td>\n",
       "    </tr>\n",
       "    <tr>\n",
       "      <th>816</th>\n",
       "      <td>ZA</td>\n",
       "      <td>South Africa</td>\n",
       "      <td>2020-04-05</td>\n",
       "      <td>-51.420</td>\n",
       "      <td>-53.273</td>\n",
       "      <td>22.351</td>\n",
       "      <td>-75.913</td>\n",
       "      <td>-78.001</td>\n",
       "      <td>-44.329</td>\n",
       "      <td>1655</td>\n",
       "      <td>11</td>\n",
       "    </tr>\n",
       "  </tbody>\n",
       "</table>\n",
       "<p>817 rows × 11 columns</p>\n",
       "</div>"
      ],
      "text/plain": [
       "    iso       country        date  grocery_pharmacy   parks  residential  \\\n",
       "0    AR     Argentina  2020-02-23             8.185  17.563        0.437   \n",
       "1    AR     Argentina  2020-02-24           -15.875  25.605        6.321   \n",
       "2    AR     Argentina  2020-02-25           -17.135   1.325        6.895   \n",
       "3    AR     Argentina  2020-02-26             2.304   5.399       -2.273   \n",
       "4    AR     Argentina  2020-02-27            -0.404  -5.267       -0.493   \n",
       "..   ..           ...         ...               ...     ...          ...   \n",
       "812  ZA  South Africa  2020-04-01           -42.446 -37.600       34.916   \n",
       "813  ZA  South Africa  2020-04-02           -40.523 -38.226       36.550   \n",
       "814  ZA  South Africa  2020-04-03           -42.107 -43.271       38.379   \n",
       "815  ZA  South Africa  2020-04-04           -51.515 -57.252       26.499   \n",
       "816  ZA  South Africa  2020-04-05           -51.420 -53.273       22.351   \n",
       "\n",
       "     retail_recreation  transit_stations  workplaces  total_cases  fatalities  \n",
       "0               13.644             5.334      -2.486            0           0  \n",
       "1               -9.973           -26.785     -53.687            0           0  \n",
       "2              -19.717           -28.485     -50.053            0           0  \n",
       "3                0.845             9.461      12.584            0           0  \n",
       "4               -0.584             7.983      12.407            0           0  \n",
       "..                 ...               ...         ...          ...         ...  \n",
       "812            -69.728           -77.371     -72.935         1380           5  \n",
       "813            -69.577           -77.874     -73.331         1462           5  \n",
       "814            -71.513           -77.944     -72.745         1505           9  \n",
       "815            -76.589           -77.026     -55.095         1585           9  \n",
       "816            -75.913           -78.001     -44.329         1655          11  \n",
       "\n",
       "[817 rows x 11 columns]"
      ]
     },
     "execution_count": 13,
     "metadata": {},
     "output_type": "execute_result"
    }
   ],
   "source": [
    "data"
   ]
  },
  {
   "cell_type": "code",
   "execution_count": 14,
   "metadata": {},
   "outputs": [],
   "source": [
    "grocery_data = data_array[:,3]\n",
    "parks_data = data_array[:,4]\n",
    "retail_data = data_array[:,5]\n",
    "transit_data = data_array[:,6]\n",
    "work_data = data_array[:,7]\n",
    "cases_data = data_array[:,8]\n",
    "deathc_data = data_array[:,9]"
   ]
  },
  {
   "cell_type": "code",
   "execution_count": 15,
   "metadata": {},
   "outputs": [],
   "source": [
    "labelencoder_X = LabelEncoder()"
   ]
  },
  {
   "cell_type": "code",
   "execution_count": 6,
   "metadata": {},
   "outputs": [],
   "source": [
    "start_date=datetime.strptime(min(data.iloc[:,2]),\"%Y-%m-%d\")\n",
    "independent_data=data.iloc[:,0:1].values\n",
    "dates=data.iloc[:,2].values\n",
    "new_dates=[]\n",
    "dependant_data=data.iloc[:,9:].values"
   ]
  },
  {
   "cell_type": "code",
   "execution_count": 7,
   "metadata": {},
   "outputs": [],
   "source": [
    "for row in data.iloc[:,2].values: #calculates diff of dates in days\n",
    "  new_dates.append((datetime.strptime(row,\"%Y-%m-%d\")-start_date).days)"
   ]
  },
  {
   "cell_type": "code",
   "execution_count": 8,
   "metadata": {},
   "outputs": [],
   "source": [
    "# independent_data[:,0] = labelencoder_X.fit_transform(independent_data[:,0])\n",
    "independent_data = OneHotEncoder().fit_transform(independent_data).toarray()\n",
    "independent_data = np.append(independent_data,np.array(new_dates)[:, None],axis=1) #append dates\n",
    "independent_data = np.append(independent_data,data.iloc[:,3:9].values,axis=1)"
   ]
  },
  {
   "cell_type": "code",
   "execution_count": 9,
   "metadata": {},
   "outputs": [
    {
     "data": {
      "text/plain": [
       "array([[  1.   ,   0.   ,   0.   , ...,  13.644,   5.334,  -2.486],\n",
       "       [  1.   ,   0.   ,   0.   , ...,  -9.973, -26.785, -53.687],\n",
       "       [  1.   ,   0.   ,   0.   , ..., -19.717, -28.485, -50.053],\n",
       "       ...,\n",
       "       [  0.   ,   0.   ,   0.   , ..., -71.513, -77.944, -72.745],\n",
       "       [  0.   ,   0.   ,   0.   , ..., -76.589, -77.026, -55.095],\n",
       "       [  0.   ,   0.   ,   0.   , ..., -75.913, -78.001, -44.329]])"
      ]
     },
     "execution_count": 9,
     "metadata": {},
     "output_type": "execute_result"
    }
   ],
   "source": [
    "independent_data"
   ]
  },
  {
   "cell_type": "code",
   "execution_count": 10,
   "metadata": {},
   "outputs": [
    {
     "ename": "NameError",
     "evalue": "name 'train_test_split' is not defined",
     "output_type": "error",
     "traceback": [
      "\u001b[0;31m---------------------------------------------------------------------------\u001b[0m",
      "\u001b[0;31mNameError\u001b[0m                                 Traceback (most recent call last)",
      "\u001b[0;32m<ipython-input-10-219905b51cc3>\u001b[0m in \u001b[0;36m<module>\u001b[0;34m\u001b[0m\n\u001b[1;32m      3\u001b[0m \u001b[0;34m\u001b[0m\u001b[0m\n\u001b[1;32m      4\u001b[0m \u001b[0;31m# Split the data into training and testing\u001b[0m\u001b[0;34m\u001b[0m\u001b[0;34m\u001b[0m\u001b[0;34m\u001b[0m\u001b[0m\n\u001b[0;32m----> 5\u001b[0;31m \u001b[0mX_train\u001b[0m\u001b[0;34m,\u001b[0m \u001b[0mX_test\u001b[0m\u001b[0;34m,\u001b[0m \u001b[0my_train\u001b[0m\u001b[0;34m,\u001b[0m \u001b[0my_test\u001b[0m \u001b[0;34m=\u001b[0m \u001b[0mtrain_test_split\u001b[0m\u001b[0;34m(\u001b[0m\u001b[0mgrocery_data\u001b[0m\u001b[0;34m,\u001b[0m \u001b[0mcases_data\u001b[0m\u001b[0;34m,\u001b[0m \u001b[0mtest_size\u001b[0m\u001b[0;34m=\u001b[0m\u001b[0;36m0.2\u001b[0m\u001b[0;34m,\u001b[0m \u001b[0mrandom_state\u001b[0m\u001b[0;34m=\u001b[0m\u001b[0;36m0\u001b[0m\u001b[0;34m)\u001b[0m\u001b[0;34m\u001b[0m\u001b[0;34m\u001b[0m\u001b[0m\n\u001b[0m\u001b[1;32m      6\u001b[0m \u001b[0;34m\u001b[0m\u001b[0m\n",
      "\u001b[0;31mNameError\u001b[0m: name 'train_test_split' is not defined"
     ]
    }
   ],
   "source": [
    "# Linear Regression\n",
    "# https://scikit-learn.org/stable/modules/generated/sklearn.linear_model.LinearRegression.html\n",
    "\n",
    "# Split the data into training and testing\n",
    "X_train, X_test, y_train, y_test = train_test_split(grocery_data, cases_data, test_size=0.2, random_state=0)\n",
    "\n"
   ]
  },
  {
   "cell_type": "code",
   "execution_count": null,
   "metadata": {},
   "outputs": [],
   "source": []
  },
  {
   "cell_type": "code",
   "execution_count": null,
   "metadata": {},
   "outputs": [],
   "source": []
  },
  {
   "cell_type": "code",
   "execution_count": null,
   "metadata": {},
   "outputs": [],
   "source": []
  },
  {
   "cell_type": "code",
   "execution_count": null,
   "metadata": {},
   "outputs": [],
   "source": []
  }
 ],
 "metadata": {
  "kernelspec": {
   "display_name": "Python 3",
   "language": "python",
   "name": "python3"
  },
  "language_info": {
   "codemirror_mode": {
    "name": "ipython",
    "version": 3
   },
   "file_extension": ".py",
   "mimetype": "text/x-python",
   "name": "python",
   "nbconvert_exporter": "python",
   "pygments_lexer": "ipython3",
   "version": "3.7.6"
  }
 },
 "nbformat": 4,
 "nbformat_minor": 4
}
